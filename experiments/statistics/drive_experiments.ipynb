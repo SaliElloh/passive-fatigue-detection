{
 "cells": [
  {
   "cell_type": "code",
   "execution_count": 26,
   "metadata": {},
   "outputs": [],
   "source": [
    "import numpy as np\n",
    "import matplotlib.pyplot as plt\n",
    "import numpy as np\n",
    "from os.path import join\n"
   ]
  },
  {
   "cell_type": "code",
   "execution_count": 27,
   "metadata": {},
   "outputs": [],
   "source": [
    "# Directories:\n",
    "main_dir = 'C:/Users/selloh/Desktop/Datasets/DREYEVE_DATA'\n",
    "subsequences_dir = main_dir + '/subsequences.txt'\n",
    "dreyeve_design_dir = main_dir + \"/dr(eye)ve_design.txt\"\n"
   ]
  },
  {
   "cell_type": "code",
   "execution_count": 28,
   "metadata": {},
   "outputs": [],
   "source": [
    "#read driveeye data\n",
    "\n",
    "# https://github.com/ndrplz/dreyeve/blob/master/experiments/dataset_stats/stats_utils.py\n",
    "\n",
    "\n",
    "def read_dreyeve_design(dreyeve_root):\n",
    "    \"\"\"\n",
    "    Reads the whole dr(eye)ve design.\n",
    "\n",
    "    Returns\n",
    "    -------\n",
    "    ndarray\n",
    "        the dr(eye)ve design in the form (sequences, params).\n",
    "    \"\"\"\n",
    "\n",
    "    with open(join(dreyeve_root, 'dr(eye)ve_design.txt')) as f:\n",
    "        dreyeve_design = np.array([l.rstrip().split('\\t') for l in f.readlines()])\n",
    "\n",
    "    return dreyeve_design"
   ]
  },
  {
   "cell_type": "code",
   "execution_count": 29,
   "metadata": {},
   "outputs": [],
   "source": [
    "#count the number of normal frames\n",
    "def count_subsequences_each_sequence(subsequences_file, sequences):\n",
    "    \"\"\"\n",
    "    Returns\n",
    "    -------\n",
    "    dict\n",
    "        a dictionary like:\n",
    "            {dreyeve_seq: np.array([count_acting, count_errors, ...])}\n",
    "    \"\"\"\n",
    "\n",
    "    ret = {s: np.zeros(5, dtype=np.int32) for s in sequences}  # normal, acting, errors, inattentive, interesting\n",
    "\n",
    "    # read subsequences file and populate sequence histogram\n",
    "    with open(subsequences_file, mode='r') as f:\n",
    "        for line in f.readlines():\n",
    "            seq, start, end, kind = line.rstrip().split('\\t')\n",
    "            seq, start, end = int(seq), int(start), int(end)\n",
    "\n",
    "            if kind == 'k':  # acting\n",
    "                ret[seq][1] += end - start + 1\n",
    "            elif kind == 'e':  # error\n",
    "                ret[seq][2] += end - start + 1\n",
    "            elif kind == 'i':  # inattentive\n",
    "                ret[seq][3] += end - start + 1\n",
    "            elif kind == 'u':  # uninteresting\n",
    "                ret[seq][4] += end - start + 1\n",
    "            else:\n",
    "                raise ValueError\n",
    "\n",
    "    # count `normal` central frames\n",
    "    for key, value in ret.items():\n",
    "        value[0] = 7500 - np.sum(value[1:])\n",
    "\n",
    "    return ret\n",
    "\n",
    "\n"
   ]
  },
  {
   "cell_type": "code",
   "execution_count": 30,
   "metadata": {},
   "outputs": [
    {
     "name": "stdout",
     "output_type": "stream",
     "text": [
      "Sunny: [0.811856   0.11407467 0.04734933 0.02297067 0.00374933]\n",
      "Cloudy: [0.79574872 0.12996923 0.04306667 0.02450769 0.00670769]\n",
      "Rainy: [0.80896232 0.13325217 0.03256232 0.01852754 0.00669565]\n"
     ]
    }
   ],
   "source": [
    "def main():\n",
    "    \"\"\" Main function \"\"\"\n",
    "    main_dir = 'C:/Users/selloh/Desktop/Datasets/DREYEVE_DATA'\n",
    "    subsequences_dir = main_dir + '/subsequences.txt'\n",
    "    dreyeve_design_dir = main_dir + \"/dr(eye)ve_design.txt\"\n",
    "\n",
    "    sequences = np.arange(1, 74+1)\n",
    "\n",
    "    subsequences_count = count_subsequences_each_sequence(subsequences_dir, sequences)\n",
    "\n",
    "    dreyeve_design = read_dreyeve_design(dreyeve_root=main_dir)\n",
    "    dreyeve_design = {int(s[0]): s[1:] for s in dreyeve_design}\n",
    "\n",
    "    # aggregate sequences by weather\n",
    "    weathers = ['Sunny', 'Cloudy', 'Rainy']\n",
    "    aggr_col = 1\n",
    "    weather_hist = {w: np.zeros(5, dtype=np.int32) for w in weathers}\n",
    "\n",
    "    for s in sequences:\n",
    "        this_sequence_weather = dreyeve_design[s][aggr_col]\n",
    "\n",
    "        weather_hist[this_sequence_weather] += subsequences_count[s]\n",
    "\n",
    "    for w in weathers:\n",
    "        print('{}: {}'.format(w, weather_hist[w].astype(np.float32) / np.sum(weather_hist[w])))\n",
    "\n",
    "\n",
    "if __name__ == '__main__':\n",
    "    main()"
   ]
  }
 ],
 "metadata": {
  "kernelspec": {
   "display_name": "base",
   "language": "python",
   "name": "python3"
  },
  "language_info": {
   "codemirror_mode": {
    "name": "ipython",
    "version": 3
   },
   "file_extension": ".py",
   "mimetype": "text/x-python",
   "name": "python",
   "nbconvert_exporter": "python",
   "pygments_lexer": "ipython3",
   "version": "3.12.4"
  }
 },
 "nbformat": 4,
 "nbformat_minor": 2
}
